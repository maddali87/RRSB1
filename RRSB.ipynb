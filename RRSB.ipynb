{
 "cells": [
  {
   "cell_type": "code",
   "execution_count": 1,
   "metadata": {},
   "outputs": [],
   "source": [
    "library(sievetest)\n"
   ]
  },
  {
   "cell_type": "code",
   "execution_count": 2,
   "metadata": {},
   "outputs": [
    {
     "data": {
      "text/html": [
       "<style>\n",
       ".list-inline {list-style: none; margin:0; padding: 0}\n",
       ".list-inline>li {display: inline-block}\n",
       ".list-inline>li:not(:last-child)::after {content: \"\\00b7\"; padding: 0 .5ex}\n",
       "</style>\n",
       "<ol class=list-inline><li>497.8</li><li>418.6</li><li>352</li><li>296</li><li>248.9</li><li>209.3</li><li>176</li><li>148</li><li>124.5</li><li>104.7</li><li>88</li><li>74</li><li>62.23</li><li>52.33</li><li>44</li><li>37</li><li>0</li></ol>\n"
      ],
      "text/latex": [
       "\\begin{enumerate*}\n",
       "\\item 497.8\n",
       "\\item 418.6\n",
       "\\item 352\n",
       "\\item 296\n",
       "\\item 248.9\n",
       "\\item 209.3\n",
       "\\item 176\n",
       "\\item 148\n",
       "\\item 124.5\n",
       "\\item 104.7\n",
       "\\item 88\n",
       "\\item 74\n",
       "\\item 62.23\n",
       "\\item 52.33\n",
       "\\item 44\n",
       "\\item 37\n",
       "\\item 0\n",
       "\\end{enumerate*}\n"
      ],
      "text/markdown": [
       "1. 497.8\n",
       "2. 418.6\n",
       "3. 352\n",
       "4. 296\n",
       "5. 248.9\n",
       "6. 209.3\n",
       "7. 176\n",
       "8. 148\n",
       "9. 124.5\n",
       "10. 104.7\n",
       "11. 88\n",
       "12. 74\n",
       "13. 62.23\n",
       "14. 52.33\n",
       "15. 44\n",
       "16. 37\n",
       "17. 0\n",
       "\n",
       "\n"
      ],
      "text/plain": [
       " [1] 497.80 418.60 352.00 296.00 248.90 209.30 176.00 148.00 124.50 104.70\n",
       "[11]  88.00  74.00  62.23  52.33  44.00  37.00   0.00"
      ]
     },
     "metadata": {},
     "output_type": "display_data"
    }
   ],
   "source": [
    "sieve_aperture <- c(497.8,418.6,352,296,248.9,209.3,176,148,124.5,104.7,88,74,62.23,52.33,44,37,0)\n",
    "sieve_aperture"
   ]
  },
  {
   "cell_type": "code",
   "execution_count": 3,
   "metadata": {},
   "outputs": [
    {
     "data": {
      "text/html": [
       "<style>\n",
       ".list-inline {list-style: none; margin:0; padding: 0}\n",
       ".list-inline>li {display: inline-block}\n",
       ".list-inline>li:not(:last-child)::after {content: \"\\00b7\"; padding: 0 .5ex}\n",
       "</style>\n",
       "<ol class=list-inline><li>0.41</li><li>0.97</li><li>1.75</li><li>2.82</li><li>4.26</li><li>6.2</li><li>8.76</li><li>11.99</li><li>15.86</li><li>20.25</li><li>25.06</li><li>30.27</li><li>35.84</li><li>41.45</li><li>47.24</li><li>52.79</li><li>100</li></ol>\n"
      ],
      "text/latex": [
       "\\begin{enumerate*}\n",
       "\\item 0.41\n",
       "\\item 0.97\n",
       "\\item 1.75\n",
       "\\item 2.82\n",
       "\\item 4.26\n",
       "\\item 6.2\n",
       "\\item 8.76\n",
       "\\item 11.99\n",
       "\\item 15.86\n",
       "\\item 20.25\n",
       "\\item 25.06\n",
       "\\item 30.27\n",
       "\\item 35.84\n",
       "\\item 41.45\n",
       "\\item 47.24\n",
       "\\item 52.79\n",
       "\\item 100\n",
       "\\end{enumerate*}\n"
      ],
      "text/markdown": [
       "1. 0.41\n",
       "2. 0.97\n",
       "3. 1.75\n",
       "4. 2.82\n",
       "5. 4.26\n",
       "6. 6.2\n",
       "7. 8.76\n",
       "8. 11.99\n",
       "9. 15.86\n",
       "10. 20.25\n",
       "11. 25.06\n",
       "12. 30.27\n",
       "13. 35.84\n",
       "14. 41.45\n",
       "15. 47.24\n",
       "16. 52.79\n",
       "17. 100\n",
       "\n",
       "\n"
      ],
      "text/plain": [
       " [1]   0.41   0.97   1.75   2.82   4.26   6.20   8.76  11.99  15.86  20.25\n",
       "[11]  25.06  30.27  35.84  41.45  47.24  52.79 100.00"
      ]
     },
     "metadata": {},
     "output_type": "display_data"
    }
   ],
   "source": [
    "mass_ppc_retained <- c(0.41,0.97,1.75,2.82,4.26,6.20,8.76,11.99,15.86,20.25,25.06,30.27,35.84,41.45,47.24,52.79,100)\n",
    "mass_ppc_retained"
   ]
  },
  {
   "cell_type": "code",
   "execution_count": 4,
   "metadata": {},
   "outputs": [],
   "source": [
    "md <- desc.std(Description = NA,\n",
    "               Title = NA,\n",
    "               Sample = NA,\n",
    "               Unit = \"mass%\",\n",
    "               Date = \"24-08.2020\",\n",
    "               x = NULL)"
   ]
  },
  {
   "cell_type": "code",
   "execution_count": 6,
   "metadata": {},
   "outputs": [
    {
     "name": "stderr",
     "output_type": "stream",
     "text": [
      "Warning message in std(a = sieve_aperture, r = mass_ppc_retained, desc = md):\n",
      "\"Sum of retained is not 100, recalculating to percents, check results.\""
     ]
    },
    {
     "data": {
      "text/plain": [
       "[[1]]\n",
       "[[1]]$Description\n",
       "[1] NA\n",
       "\n",
       "[[1]]$Title\n",
       "[1] NA\n",
       "\n",
       "[[1]]$Sample\n",
       "[1] NA\n",
       "\n",
       "[[1]]$Unit\n",
       "[1] \"mass%\"\n",
       "\n",
       "[[1]]$Date\n",
       "[1] \"24-08.2020\"\n",
       "\n",
       "[[1]]$stdata\n",
       "        a          r           O        U        X          Y\n",
       "1  497.80  0.1010051   0.1010051 99.89899 6.210198  1.9311959\n",
       "2  418.60  0.2389633   0.3399685 99.66003 6.036916  1.7376680\n",
       "3  352.00  0.4311194   0.7710879 99.22891 5.863631  1.5820920\n",
       "4  296.00  0.6947182   1.4658061 98.53419 5.690359  1.4404901\n",
       "5  248.90  1.0494679   2.5152739 97.48473 5.517051  1.3036702\n",
       "6  209.30  1.5273946   4.0426685 95.95733 5.343769  1.1657304\n",
       "7  176.00  2.1580607   6.2007292 93.79927 5.170484  1.0226319\n",
       "8  148.00  2.9537840   9.1545132 90.84549 4.997212  0.8716796\n",
       "9  124.50  3.9071738  13.0616870 86.93831 4.824306  0.7107351\n",
       "10 104.70  4.9886677  18.0503547 81.94965 4.651099  0.5376651\n",
       "11  88.00  6.1736303  24.2239850 75.77601 4.477337  0.3491254\n",
       "12  74.00  7.4571344  31.6811194 68.31888 4.304065  0.1392829\n",
       "13  62.23  8.8293260  40.5104454 59.48955 4.130837 -0.1013571\n",
       "14  52.33 10.2113717  50.7218171 49.27818 3.957570 -0.3874080\n",
       "15  44.00 11.6377611  62.3595782 37.64042 3.784190 -0.7502406\n",
       "16  37.00 13.0050256  75.3646039 24.63540 3.610918 -1.2629005\n",
       "17   0.00 24.6353961 100.0000000  0.00000     -Inf       -Inf\n",
       "\n",
       "[[1]]$lmfit\n",
       "\n",
       "Call:\n",
       "lm(formula = Y ~ X, data = structure(list(a = c(497.8, 418.6, \n",
       "352, 296, 248.9, 209.3, 176, 148, 124.5, 104.7, 88, 74, 62.23, \n",
       "52.33, 44, 37), r = c(0.101005124162397, 0.238963342530548, 0.431119432400473, \n",
       "0.694718171068191, 1.04946787544344, 1.52739456050453, 2.15806070161608, \n",
       "2.95378399684667, 3.90717382735514, 4.9886677177769, 6.17363027197477, \n",
       "7.45713441072132, 8.82932597556169, 10.2113716988569, 11.6377611351991, \n",
       "13.005025620812), O = c(0.101005124162397, 0.339968466692944, \n",
       "0.771087899093417, 1.46580607016161, 2.51527394560505, 4.04266850610958, \n",
       "6.20072920772566, 9.15451320457233, 13.0616870319275, 18.0503547497044, \n",
       "24.2239850216791, 31.6811194324005, 40.5104454079622, 50.7218171068191, \n",
       "62.3595782420181, 75.3646038628301), U = c(99.8989948758376, \n",
       "99.6600315333071, 99.2289121009066, 98.5341939298384, 97.484726054395, \n",
       "95.9573314938904, 93.7992707922743, 90.8454867954277, 86.9383129680725, \n",
       "81.9496452502956, 75.7760149783209, 68.3188805675995, 59.4895545920378, \n",
       "49.2781828931809, 37.6404217579819, 24.6353961371699), X = c(6.21019838993349, \n",
       "6.0369158100119, 5.8636311755981, 5.69035945432406, 5.51705120937355, \n",
       "5.34376862945195, 5.17048399503815, 4.99721227376411, 4.82430571590476, \n",
       "4.65109911787649, 4.47733681447821, 4.30406509320417, 4.13083719858113, \n",
       "3.95756982038412, 3.78418963391826, 3.61091791264422), Y = c(1.93119588255696, \n",
       "1.73766798226481, 1.58209201671541, 1.44049009746441, 1.30367019993897, \n",
       "1.16573035203311, 1.02263194969972, 0.871679559940555, 0.710735050713736, \n",
       "0.5376651093038, 0.349125366400417, 0.139282944236868, -0.101357058175137, \n",
       "-0.387408047158734, -0.750240621007289, -1.26290054961142)), row.names = c(NA, \n",
       "16L), class = \"data.frame\"))\n",
       "\n",
       "Coefficients:\n",
       "(Intercept)            X  \n",
       "      -4.76         1.10  \n",
       "\n",
       "\n",
       "[[1]]$RRcoefficients\n",
       "[[1]]$RRcoefficients$diameter\n",
       "     xs \n",
       "75.6491 \n",
       "\n",
       "[[1]]$RRcoefficients$exponent\n",
       "      ex \n",
       "1.100276 \n",
       "\n",
       "\n",
       "[[1]]$size\n",
       "[[1]]$size$modus\n",
       "[1] 8.576489\n",
       "\n",
       "[[1]]$size$mean\n",
       "[1] 54.21706\n",
       "\n",
       "[[1]]$size$o90um\n",
       "[1] 0.2980161\n",
       "\n",
       "\n",
       "\n",
       "attr(,\"class\")\n",
       "[1] \"std\"  \"list\""
      ]
     },
     "metadata": {},
     "output_type": "display_data"
    }
   ],
   "source": [
    "mysample2 <- std(a=sieve_aperture, r=mass_ppc_retained, desc=md)\n",
    "mysample2"
   ]
  },
  {
   "cell_type": "code",
   "execution_count": 7,
   "metadata": {},
   "outputs": [
    {
     "data": {
      "image/png": "[encoded data removed]",
      "text/plain": [
       "Plot with title \"Sieve Test - Rosin - Rammler Plot\""
      ]
     },
     "metadata": {},
     "output_type": "display_data"
    }
   ],
   "source": [
    "plot(mysample2)\n"
   ]
  },
  {
   "cell_type": "code",
   "execution_count": null,
   "metadata": {},
   "outputs": [],
   "source": []
  }
 ],
 "metadata": {
  "kernelspec": {
   "display_name": "R",
   "language": "R",
   "name": "ir"
  },
  "language_info": {
   "codemirror_mode": "r",
   "file_extension": ".r",
   "mimetype": "text/x-r-source",
   "name": "R",
   "pygments_lexer": "r",
   "version": "3.6.1"
  }
 },
 "nbformat": 4,
 "nbformat_minor": 4
}
